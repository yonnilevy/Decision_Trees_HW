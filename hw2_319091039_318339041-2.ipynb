{
 "cells": [
  {
   "cell_type": "markdown",
   "metadata": {
    "nbgrader": {
     "grade": false,
     "grade_id": "cell-6bd0516e7cb654f5",
     "locked": true,
     "schema_version": 1,
     "solution": false
    }
   },
   "source": [
    "# Exercise 2: Decision Trees\n",
    "\n",
    "In this assignment you will implement a Decision Tree algorithm as learned in class.\n",
    "\n",
    "## Read the following instructions carefully:\n",
    "\n",
    "1. This jupyter notebook contains all the step by step instructions needed for this exercise.\n",
    "1. Submission includes this notebook only with the exercise number and your ID as the filename. For example: `hw2_123456789_987654321.ipynb` if you submitted in pairs and `hw2_123456789.ipynb` if you submitted the exercise alone.\n",
    "1. Write **efficient vectorized** code whenever possible. Some calculations in this exercise take several minutes when implemented efficiently, and might take much longer otherwise. Unnecessary loops will result in point deduction.\n",
    "1. You are responsible for the correctness of your code and should add as many tests as you see fit. Tests will not be graded nor checked.\n",
    "1. Write your functions in this notebook only. **Do not create Python modules and import them**.\n",
    "1. You are allowed to use functions and methods from the [Python Standard Library](https://docs.python.org/3/library/) and [numpy](https://www.numpy.org/devdocs/reference/) only. **Do not import anything else.**\n",
    "1. Your code must run without errors. Make sure your `numpy` version is at least 1.15.4 and that you are using at least python 3.6. Changes of the configuration we provided are at your own risk. Any code that cannot run will not be graded.\n",
    "1. Write your own code. Cheating will not be tolerated.\n",
    "1. Answers to qualitative questions should be written in **markdown** cells (with $\\LaTeX$ support). Answers that will be written in commented code blocks will not be checked.\n",
    "\n",
    "## In this exercise you will perform the following:\n",
    "1. Practice OOP in python.\n",
    "2. Implement two impurity measures: Gini and Entropy.\n",
    "3. Construct a decision tree algorithm.\n",
    "4. Prune the tree to achieve better results.\n",
    "5. Visualize your results."
   ]
  },
  {
   "cell_type": "markdown",
   "metadata": {},
   "source": [
    "# I have read and understood the instructions: *** 319091039_318339041 ***"
   ]
  },
  {
   "cell_type": "code",
   "execution_count": 1,
   "metadata": {
    "nbgrader": {
     "grade": false,
     "grade_id": "cell-ed9fe7b1026e33cb",
     "locked": true,
     "schema_version": 1,
     "solution": false
    }
   },
   "outputs": [],
   "source": [
    "import numpy as np\n",
    "import pandas as pd\n",
    "import matplotlib.pyplot as plt\n",
    "\n",
    "# make matplotlib figures appear inline in the notebook\n",
    "%matplotlib inline\n",
    "plt.rcParams['figure.figsize'] = (10.0, 8.0) # set default size of plots\n",
    "plt.rcParams['image.interpolation'] = 'nearest'\n",
    "plt.rcParams['image.cmap'] = 'gray'\n",
    "\n",
    "# Ignore warnings\n",
    "import warnings\n",
    "warnings.filterwarnings('ignore')"
   ]
  },
  {
   "cell_type": "markdown",
   "metadata": {
    "nbgrader": {
     "grade": false,
     "grade_id": "cell-c6ac605270c2b091",
     "locked": true,
     "schema_version": 1,
     "solution": false
    }
   },
   "source": [
    "## Warmup - OOP in python\n",
    "\n",
    "Our desicion tree will be implemented using a dedicated python class. Python classes are very similar to classes in Java.\n",
    "\n",
    "\n",
    "You can use the following [site](https://jeffknupp.com/blog/2014/06/18/improve-your-python-python-classes-and-object-oriented-programming/) to learn about classes in python."
   ]
  },
  {
   "cell_type": "code",
   "execution_count": 2,
   "metadata": {},
   "outputs": [],
   "source": [
    "class Node(object):\n",
    "    def __init__(self, data):\n",
    "        self.data = data\n",
    "        self.children = []\n",
    "\n",
    "    def add_child(self, node):\n",
    "        self.children.append(node)"
   ]
  },
  {
   "cell_type": "code",
   "execution_count": 3,
   "metadata": {},
   "outputs": [
    {
     "data": {
      "text/plain": [
       "[<__main__.Node at 0x2077383b8e0>, <__main__.Node at 0x20773838130>]"
      ]
     },
     "execution_count": 3,
     "metadata": {},
     "output_type": "execute_result"
    }
   ],
   "source": [
    "n = Node(5)\n",
    "p = Node(6)\n",
    "q = Node(7)\n",
    "n.add_child(p)\n",
    "n.add_child(q)\n",
    "n.children"
   ]
  },
  {
   "cell_type": "markdown",
   "metadata": {
    "nbgrader": {
     "grade": false,
     "grade_id": "cell-2f1ceb251c649b62",
     "locked": true,
     "schema_version": 1,
     "solution": false
    }
   },
   "source": [
    "## Data preprocessing\n",
    "\n",
    "For the following exercise, we will use a dataset containing mushroom data `agaricus-lepiota.csv`. \n",
    "\n",
    "This data set includes descriptions of hypothetical samples corresponding to 23 species of gilled mushrooms in the Agaricus and Lepiota Family. Each species is identified as definitely edible, definitely poisonous, or of unknown edibility and not recommended. This latter class was combined with the poisonous\n",
    "one (=there are only two classes **edible** and **poisonous**). \n",
    "    \n",
    "The dataset contains 8124 observations with 22 features:\n",
    "1. cap-shape: bell=b,conical=c,convex=x,flat=f,knobbed=k,sunken=s\n",
    "2. cap-surface: fibrous=f,grooves=g,scaly=y,smooth=s\n",
    "3. cap-color: brown=n,buff=b,cinnamon=c,gray=g,green=r,pink=p,purple=u,red=e,white=w,yellow=y\n",
    "4. bruises: bruises=t,no=f\n",
    "5. odor: almond=a,anise=l,creosote=c,fishy=y,foul=f, musty=m,none=n,pungent=p,spicy=s\n",
    "6. gill-attachment: attached=a,descending=d,free=f,notched=n\n",
    "7. gill-spacing: close=c,crowded=w,distant=d\n",
    "8. gill-size: broad=b,narrow=n\n",
    "9. gill-color: black=k,brown=n,buff=b,chocolate=h,gray=g,green=r,orange=o,pink=p,purple=u,red=e,white=w,yellow=y\n",
    "10. stalk-shape: enlarging=e,tapering=t\n",
    "11. stalk-root: bulbous=b,club=c,cup=u,equal=e,rhizomorphs=z,rooted=r\n",
    "12. stalk-surface-above-ring: fibrous=f,scaly=y,silky=k,smooth=s\n",
    "13. stalk-surface-below-ring: fibrous=f,scaly=y,silky=k,smooth=s\n",
    "14. stalk-color-above-ring: brown=n,buff=b,cinnamon=c,gray=g,orange=o,pink=p,red=e,white=w,yellow=y\n",
    "15. stalk-color-below-ring: brown=n,buff=b,cinnamon=c,gray=g,orange=o,pink=p,red=e,white=w,yellow=y\n",
    "16. veil-type: partial=p,universal=u\n",
    "17. veil-color: brown=n,orange=o,white=w,yellow=y\n",
    "18. ring-number: none=n,one=o,two=t\n",
    "19. ring-type: cobwebby=c,evanescent=e,flaring=f,large=l,none=n,pendant=p,sheathing=s,zone=z\n",
    "20. spore-print-color: black=k,brown=n,buff=b,chocolate=h,green=r,orange=o,purple=u,white=w,yellow=y\n",
    "21. population: abundant=a,clustered=c,numerous=n,scattered=s,several=v,solitary=y\n",
    "22. habitat: grasses=g,leaves=l,meadows=m,paths=p,urban=u,waste=w,woods=d\n",
    "\n",
    "First, we will read and explore the data using pandas and the `.read_csv` method. Pandas is an open source library providing high-performance, easy-to-use data structures and data analysis tools for the Python programming language."
   ]
  },
  {
   "cell_type": "code",
   "execution_count": 4,
   "metadata": {
    "nbgrader": {
     "grade": false,
     "grade_id": "cell-d79cb4542926ad3f",
     "locked": true,
     "schema_version": 1,
     "solution": false
    }
   },
   "outputs": [],
   "source": [
    "# load dataset\n",
    "data = pd.read_csv('agaricus-lepiota.csv')"
   ]
  },
  {
   "cell_type": "markdown",
   "metadata": {},
   "source": [
    "One of the advantages of the Decision Tree algorithm is that almost no preprocessing is required. However, finding missing values is always required."
   ]
  },
  {
   "cell_type": "code",
   "execution_count": 5,
   "metadata": {},
   "outputs": [],
   "source": [
    "#############################################################################\n",
    "# TODO: Find columns with missing values and remove them from the data.#\n",
    "#############################################################################\n",
    "data.dropna(how='any', axis=1, inplace=True)\n",
    "#############################################################################\n",
    "#                             END OF YOUR CODE                              #\n",
    "#############################################################################"
   ]
  },
  {
   "cell_type": "markdown",
   "metadata": {},
   "source": [
    "We will split the dataset to `Training` and `Testing` datasets."
   ]
  },
  {
   "cell_type": "code",
   "execution_count": 6,
   "metadata": {
    "scrolled": true
   },
   "outputs": [
    {
     "name": "stdout",
     "output_type": "stream",
     "text": [
      "21\n",
      "Training dataset shape:  (6093, 22)\n",
      "Testing dataset shape:  (2031, 22)\n"
     ]
    }
   ],
   "source": [
    "from sklearn.model_selection import train_test_split\n",
    "# Making sure the last column will hold the labels\n",
    "X, y = data.drop('class', axis=1), data['class']\n",
    "X = np.column_stack([X,y])\n",
    "# split dataset using random_state to get the same split each time\n",
    "X_train, X_test = train_test_split(X, random_state=99)\n",
    "print(X_train.shape[1]-1)\n",
    "print(\"Training dataset shape: \", X_train.shape)\n",
    "print(\"Testing dataset shape: \", X_test.shape)"
   ]
  },
  {
   "cell_type": "code",
   "execution_count": 7,
   "metadata": {},
   "outputs": [
    {
     "data": {
      "text/plain": [
       "(8124,)"
      ]
     },
     "execution_count": 7,
     "metadata": {},
     "output_type": "execute_result"
    }
   ],
   "source": [
    "y.shape"
   ]
  },
  {
   "cell_type": "markdown",
   "metadata": {
    "nbgrader": {
     "grade": false,
     "grade_id": "cell-fd7b0191f3f1e897",
     "locked": true,
     "schema_version": 1,
     "solution": false
    }
   },
   "source": [
    "## Impurity Measures\n",
    "\n",
    "Impurity is a measure of how often a randomly chosen element from the set would be incorrectly labeled if it was randomly labeled according to the distribution of labels in the subset. Implement the functions `calc_gini` and `calc_entropy`. You are encouraged to test your implementation (10 points)."
   ]
  },
  {
   "cell_type": "code",
   "execution_count": 8,
   "metadata": {},
   "outputs": [],
   "source": [
    "def calc_gini(data):\n",
    "    \"\"\"\n",
    "    Calculate gini impurity measure of a dataset.\n",
    " \n",
    "    Input:\n",
    "    - data: any dataset where the last column holds the labels.\n",
    " \n",
    "    Returns the gini impurity.    \n",
    "    \"\"\"\n",
    "    y = data[:,-1]\n",
    "    y_len = y.shape[0]\n",
    "    _,class_count = np.unique(y,return_counts = True)\n",
    "    gini = 0.0\n",
    "    ###########################################################################\n",
    "    # TODO: Implement the function.                                           #\n",
    "    ###########################################################################\n",
    "    probs = (class_count/y_len)**2\n",
    "    gini = 1 - probs.sum()\n",
    "    ###########################################################################\n",
    "    #                             END OF YOUR CODE                            #\n",
    "    ###########################################################################\n",
    "    return gini"
   ]
  },
  {
   "cell_type": "code",
   "execution_count": 9,
   "metadata": {},
   "outputs": [],
   "source": [
    "def calc_entropy(data):\n",
    "    \"\"\"\n",
    "    Calculate the entropy of a dataset.\n",
    "\n",
    "    Input:\n",
    "    - data: any dataset where the last column holds the labels.\n",
    "\n",
    "    Returns the entropy of the dataset.    \n",
    "    \"\"\"\n",
    "    entropy = 0.0\n",
    "    ###########################################################################\n",
    "    # TODO: Implement the function.                                           #\n",
    "    ###########################################################################\n",
    "    y = data[:,-1]\n",
    "    y_len = y.shape[0]\n",
    "    _,class_count = np.unique(y,return_counts = True)\n",
    "    probs = (class_count/y_len)\n",
    "    probs = probs*np.log2(probs, out=np.zeros_like(probs), where =(probs!= 0))\n",
    "    entropy -= probs.sum()\n",
    "    ###########################################################################\n",
    "    #                             END OF YOUR CODE                            #\n",
    "    ###########################################################################\n",
    "    return entropy"
   ]
  },
  {
   "cell_type": "code",
   "execution_count": 10,
   "metadata": {
    "scrolled": true
   },
   "outputs": [
    {
     "data": {
      "text/plain": [
       "(0.4995636322379775, 0.9993703627906085)"
      ]
     },
     "execution_count": 10,
     "metadata": {},
     "output_type": "execute_result"
    }
   ],
   "source": [
    "##### Your Tests Here #####\n",
    "calc_gini(X), calc_entropy(X)"
   ]
  },
  {
   "cell_type": "markdown",
   "metadata": {},
   "source": [
    "## Goodness of Split\n",
    "\n",
    "Given a feature the Goodnees of Split measures the reduction in the impurity if we split the data according to the feature.\n",
    "$$\n",
    "\\Delta\\varphi(S, A) = \\varphi(S) - \\sum_{v\\in Values(A)} \\frac{|S_v|}{|S|}\\varphi(S_v)\n",
    "$$\n",
    "\n",
    "In our implementation the goodness_of_split function will return either the Goodness of Split or the Gain Ratio as learned in class. You'll control the return value with the `gain_ratio` parameter. If this parameter will set to False (the default value) it will return the regular Goodness of Split. If it will set to True it will return the Gain Ratio.\n",
    "$$\n",
    "GainRatio(S,A)=\\frac{InformationGain(S,A)}{SplitInformation(S,A)}\n",
    "$$\n",
    "Where:\n",
    "$$\n",
    "InformationGain(S,A)=Goodness\\ of\\ Split\\ calculated\\ with\\ Entropy\\ as\\ the\\ Impurity\\ function \\\\\n",
    "SplitInformation(S,A)=- \\sum_{a\\in A} \\frac{|S_a|}{|S|}\\log\\frac{|S_a|}{|S|}\n",
    "$$\n",
    "NOTE: you can add more parameters to the function and you can also add more returning variables (The given parameters and the given returning variable should not be touch). (10 Points)"
   ]
  },
  {
   "cell_type": "code",
   "execution_count": 11,
   "metadata": {},
   "outputs": [],
   "source": [
    "def goodness_of_split(data, feature, impurity_func, gain_ratio=False):\n",
    "    \"\"\"\n",
    "    Calculate the goodness of split of a dataset given a feature and impurity function.\n",
    "\n",
    "    Input:\n",
    "    - data: any dataset where the last column holds the labels.\n",
    "    - feature: the feature index.\n",
    "    - impurity func: a function that calculates the impurity.\n",
    "    - gain_ratio: goodness of split or gain ratio flag.\n",
    "\n",
    "    Returns the goodness of split (or the Gain Ration). \n",
    "    \"\"\"\n",
    "    ###########################################################################\n",
    "    # TODO: Implement the function.                                           #\n",
    "    ###########################################################################\n",
    "    data_imp = 0.0\n",
    "    feat =data[:,feature]\n",
    "    vals,val_count = np.unique(feat,return_counts = True)\n",
    "    feat_len = feat.shape[0]\n",
    "    probs = (val_count/feat_len)\n",
    "    if not gain_ratio:\n",
    "        data_imp = impurity_func(data)\n",
    "        feat_val = np.column_stack([feat,data[:,-1]])\n",
    "        i = 0\n",
    "        for value in vals:\n",
    "            mask = feat_val[feat_val[:, 0] == value, :]\n",
    "            probs[i] = probs[i]*impurity_func(mask)\n",
    "            i += 1\n",
    "        goodness = data_imp - probs.sum()\n",
    "    else:\n",
    "        inform_gain = goodness_of_split(data, feature, calc_entropy, False)\n",
    "        X = np.column_stack([data, data[:,feature]])\n",
    "        split_info = calc_entropy(X)\n",
    "        if split_info == 0:\n",
    "            goodness = 0\n",
    "        else:    \n",
    "            goodness = inform_gain / split_info\n",
    "    ###########################################################################\n",
    "    #                             END OF YOUR CODE                            #\n",
    "    ###########################################################################\n",
    "    \n",
    "    return goodness   "
   ]
  },
  {
   "cell_type": "markdown",
   "metadata": {},
   "source": [
    "## Building a Decision Tree\n",
    "\n",
    "Use a Python class to construct the decision tree. Your class should support the following functionality:\n",
    "\n",
    "1. Initiating a node for a decision tree. You will need to use several class methods and class attributes and you are free to use them as you see fit. We recommend that every node will hold the feature and value used for the split and its children.\n",
    "2. Your code should support both Gini and Entropy as impurity measures. \n",
    "3. The provided data includes categorical data. In this exercise, when splitting a node create the number of children needed according to the attribute unique values.\n",
    "\n",
    "Complete the class `DecisionNode`. The structure of this class is entirely up to you. \n",
    "\n",
    "Complete the function `build_tree`. This function should get the training dataset and the impurity as inputs, initiate a root for the decision tree and construct the tree according to the procedure you learned in class. (30 points)"
   ]
  },
  {
   "cell_type": "code",
   "execution_count": 12,
   "metadata": {},
   "outputs": [],
   "source": [
    "class DecisionNode:\n",
    "    \"\"\"\n",
    "    This class will hold everything you require to construct a decision tree.\n",
    "    The structure of this class is up to you. However, you need to support basic \n",
    "    functionality as described above. It is highly recommended that you \n",
    "    first read and understand the entire exercise before diving into this class.\n",
    "    \"\"\"\n",
    "    def __init__(self, feature, value):\n",
    "        self.feature = feature # column index of criteria being tested\n",
    "        self.value = value\n",
    "        self.children = []\n",
    "        self.pred = None\n",
    "        self.val_count = {}\n",
    "        \n",
    "        \n",
    "    def add_child(self, node):\n",
    "        self.children.append(node)\n",
    "    "
   ]
  },
  {
   "cell_type": "code",
   "execution_count": 13,
   "metadata": {},
   "outputs": [],
   "source": [
    "def build_tree(data, impurity, gain_ratio=False, min_samples_split=1, max_depth=1000):\n",
    "    \"\"\"\n",
    "    Build a tree using the given impurity measure and training dataset. \n",
    "    You are required to fully grow the tree until all leaves are pure. \n",
    "\n",
    "    Input:\n",
    "    - data: the training dataset.\n",
    "    - impurity: the chosen impurity measure. Notice that you can send a function\n",
    "                as an argument in python.\n",
    "    - gain_ratio: goodness of split or gain ratio flag\n",
    "    - min_samples_split: the minimum number of samples required to split an internal node\n",
    "    - max_depth: the allowable depth of the tree\n",
    "\n",
    "    Output: the root node of the tree.\n",
    "    \"\"\"\n",
    "    root = DecisionNode(None,None)\n",
    "    ###########################################################################\n",
    "    # TODO: Implement the function.                                           #\n",
    "    ###########################################################################\n",
    "    split_node(data, impurity, root, gain_ratio, min_samples_split, max_depth)\n",
    "    ###########################################################################\n",
    "    #                             END OF YOUR CODE                            #\n",
    "    ###########################################################################\n",
    "    return root\n",
    "\n",
    "def split_node(data, impurity, node, gain_ratio, min_samples_split, max_depth):\n",
    "    \n",
    "    predict_node(data,node)\n",
    "    \n",
    "    if ((data.shape[0] <= min_samples_split) or (max_depth == 0) or (impurity(data) == 0)):\n",
    "        return None\n",
    "    \n",
    "    best_feature, goodness = find_best_feature(data, impurity, gain_ratio)\n",
    "    \n",
    "    if  goodness <= 0:\n",
    "        return None\n",
    "    \n",
    "    vals,_ = np.unique(data[:,best_feature],return_counts = True)\n",
    "    node.feature = best_feature\n",
    "    build_childs(vals,node,best_feature)\n",
    "    \n",
    "    for child in node.children:\n",
    "        new_data = data[data[:, best_feature] == child.value, :]\n",
    "        split_node(new_data, impurity, child, gain_ratio, min_samples_split, max_depth-1)\n",
    "    return None\n",
    "    \n",
    "def predict_node(data,node):            \n",
    "    vals, counts = np.unique(data.T[-1], return_counts=True)\n",
    "    node.val_count = dict(zip(vals,counts))\n",
    "    node.pred = max(node.val_count, key=node.val_count.get)\n",
    "    return None\n",
    "\n",
    "def find_best_feature(data, impurity, gain_ratio):\n",
    "    best_feature = -1\n",
    "    goodness = 0\n",
    "    max_goodness = 0\n",
    "    for i in range(data.shape[1]-1):             \n",
    "        goodness = goodness_of_split(data, i, impurity, gain_ratio)\n",
    "        if goodness >= max_goodness:\n",
    "            best_feature = i\n",
    "            max_goodness = goodness\n",
    "    return best_feature,max_goodness\n",
    "\n",
    "def build_childs(vals,node,best_feature):                  \n",
    "    for value in vals:\n",
    "        child = DecisionNode(None,value)\n",
    "        node.add_child(child)\n",
    "    return None"
   ]
  },
  {
   "cell_type": "code",
   "execution_count": null,
   "metadata": {},
   "outputs": [],
   "source": []
  },
  {
   "cell_type": "code",
   "execution_count": 14,
   "metadata": {},
   "outputs": [],
   "source": [
    "# python supports passing a function as an argument to another function.\n",
    "tree_gini = build_tree(data=X_train, impurity=calc_gini) # gini and goodness of split\n",
    "tree_entropy = build_tree(data=X_train, impurity=calc_entropy) # entropy and goodness of split\n",
    "tree_entropy_gain_ratio = build_tree(data=X_train, impurity=calc_entropy, gain_ratio=True) # entropy and gain ratio\n"
   ]
  },
  {
   "cell_type": "markdown",
   "metadata": {},
   "source": [
    "## Tree evaluation\n",
    "\n",
    "Complete the functions `predict` and `calc_accuracy`. (10 points)"
   ]
  },
  {
   "cell_type": "code",
   "execution_count": 15,
   "metadata": {},
   "outputs": [],
   "source": [
    "def predict(node, instance):\n",
    "    \"\"\"\n",
    "    Predict a given instance using the decision tree\n",
    " \n",
    "    Input:\n",
    "    - root: the root of the decision tree.\n",
    "    - instance: an row vector from the dataset. Note that the last element \n",
    "                of this vector is the label of the instance.\n",
    " \n",
    "    Output: the prediction of the instance.\n",
    "    \"\"\"\n",
    "    pred = None\n",
    "    ###########################################################################\n",
    "    # TODO: Implement the function.                                           #\n",
    "    ###########################################################################\n",
    "    current_node = node\n",
    "    instance_val = 0 \n",
    "    while(True):\n",
    "        if current_node.pred != None:\n",
    "            pred = current_node.pred\n",
    "        if current_node.children == []:\n",
    "            break\n",
    "        current_feat = current_node.feature\n",
    "        instance_val = instance[current_feat]\n",
    "        flag = False\n",
    "        for child in current_node.children:\n",
    "            if instance_val == child.value:\n",
    "                current_node = child\n",
    "                flag = True\n",
    "        if not flag:\n",
    "            return current_node.pred\n",
    "            break\n",
    "    return pred \n",
    "    ###########################################################################\n",
    "    #                             END OF YOUR CODE                            #\n",
    "    ###########################################################################"
   ]
  },
  {
   "cell_type": "code",
   "execution_count": 16,
   "metadata": {},
   "outputs": [],
   "source": [
    "def calc_accuracy(node, dataset):\n",
    "    \"\"\"\n",
    "    Predict a given dataset using the decision tree\n",
    " \n",
    "    Input:\n",
    "    - node: a node in the decision tree.\n",
    "    - dataset: the dataset on which the accuracy is evaluated\n",
    " \n",
    "    Output: the accuracy of the decision tree on the given dataset (%).\n",
    "    \"\"\"\n",
    "    accuracy = 0.0\n",
    "    success = 0\n",
    "    tries= 0\n",
    "    ###########################################################################\n",
    "    # TODO: Implement the function.                                           #\n",
    "    ###########################################################################\n",
    "    for row in dataset:\n",
    "        label = row[-1]\n",
    "        pred = predict(node,row[:len(row) - 1])\n",
    "        if pred == label:\n",
    "            success +=1\n",
    "        tries+=1\n",
    "    accuracy = success / tries\n",
    "    ###########################################################################\n",
    "    #                             END OF YOUR CODE                            #\n",
    "    ###########################################################################\n",
    "    return accuracy * 100"
   ]
  },
  {
   "cell_type": "markdown",
   "metadata": {},
   "source": [
    "After building the three trees using the training set, you should calculate the accuracy on the test set. For each tree print the training and test accuracy. Select the tree that gave you the best test accuracy. For the rest of the exercise, use that tree (when you asked to build another tree use the same impurity function and same gain_ratio flag). "
   ]
  },
  {
   "cell_type": "code",
   "execution_count": 17,
   "metadata": {},
   "outputs": [
    {
     "name": "stdout",
     "output_type": "stream",
     "text": [
      "we get: 78.38503200393895 % when we use build_tree with testing data, calc_gini and the default values.\n",
      "we get: 78.04037419990154 % when we use build_tree with testing data, calc_entropy and the default values.\n",
      "\n",
      "we get: 78.68045297882816 % when we use build_tree with testing data, calc_entropy, gain_ratio=True and the default values. this is the most accurate.\n",
      "\n",
      "we get: 99.21221073362875 % when we use build_tree with training data, calc_gini and the default values.\n",
      "we get: 99.37633349745609 % when we use build_tree with training data, calc_entropy and the default values.\n",
      "we get: 99.67175447234531 % when we use build_tree with training data, calc_entropy, gain_ratio=True and the default values.\n"
     ]
    }
   ],
   "source": [
    "#### Your code here ####\n",
    "calc_accuracy_tree_gini = calc_accuracy(tree_gini,X_test)\n",
    "calc_accuracy_tree_entropy = calc_accuracy(tree_entropy,X_test)\n",
    "calc_accuracy_tree_entropy_gain_ratio = calc_accuracy(tree_entropy_gain_ratio,X_test)\n",
    "calc_accuracy_tree_gini_train = calc_accuracy(tree_gini,X_train)\n",
    "calc_accuracy_tree_entropy_train = calc_accuracy(tree_entropy,X_train)\n",
    "calc_accuracy_tree_entropy_gain_ratio_train = calc_accuracy(tree_entropy_gain_ratio,X_train)\n",
    "print(\"we get:\",calc_accuracy_tree_gini,\"% when we use build_tree with testing data, calc_gini and the default values.\")\n",
    "print(\"we get:\",calc_accuracy_tree_entropy,\"% when we use build_tree with testing data, calc_entropy and the default values.\")\n",
    "print(\"\\nwe get:\",calc_accuracy_tree_entropy_gain_ratio,\"% when we use build_tree with testing data, calc_entropy, gain_ratio=True and the default values. this is the most accurate.\\n\")\n",
    "print(\"we get:\",calc_accuracy_tree_gini_train,\"% when we use build_tree with training data, calc_gini and the default values.\")\n",
    "print(\"we get:\",calc_accuracy_tree_entropy_train,\"% when we use build_tree with training data, calc_entropy and the default values.\")\n",
    "print(\"we get:\",calc_accuracy_tree_entropy_gain_ratio_train,\"% when we use build_tree with training data, calc_entropy, gain_ratio=True and the default values.\")"
   ]
  },
  {
   "cell_type": "markdown",
   "metadata": {},
   "source": [
    "## Depth pruning\n",
    "\n",
    "(15 points)\n",
    "\n",
    "Consider the following max_depth values: [1, 2, 3, 4, 5, 6, 7, 8]. For each value, construct a tree and prune it according to the max_depth value = don't let the tree to grow beyond this depth. Next, calculate the training and testing accuracy.<br>\n",
    "On a single plot, draw the training and testing accuracy as a function of the max_depth. Mark the best result on the graph with red circle."
   ]
  },
  {
   "cell_type": "code",
   "execution_count": 18,
   "metadata": {},
   "outputs": [
    {
     "data": {
      "image/png": "[encoded data removed]",
      "text/plain": [
       "<Figure size 720x576 with 1 Axes>"
      ]
     },
     "metadata": {
      "needs_background": "light"
     },
     "output_type": "display_data"
    }
   ],
   "source": [
    "max_depth_arr = [1,2,3,4,5,6,7,8]\n",
    "d_root_arr = []\n",
    "d_acc_train_arr = []\n",
    "d_acc_test_arr = []\n",
    "for depth in max_depth_arr:\n",
    "    d_root_arr.append(build_tree(X_train,calc_entropy , True, 1, depth))\n",
    "for root in d_root_arr:\n",
    "    d_acc_test_arr.append(calc_accuracy(root,X_test))\n",
    "    d_acc_train_arr.append(calc_accuracy(root,X_train))\n",
    "max_index = np.argmax(d_acc_test_arr)\n",
    "\n",
    "\n",
    "\n",
    "plt.plot(max_depth_arr, d_acc_test_arr,'c', label = \"test\")\n",
    "plt.plot(max_depth_arr, d_acc_train_arr, 'y', label = \"train\")\n",
    "plt.scatter(max_depth_arr[max_index], d_acc_test_arr[max_index], s=100, facecolors='none', edgecolors='r',label = \"best result\")\n",
    "plt.legend(loc = 'upper left')\n",
    "plt.xlabel('max depth')\n",
    "plt.ylabel('accuracy')\n",
    "plt.title('accuracy as function of max depth')\n",
    "plt.show()"
   ]
  },
  {
   "cell_type": "markdown",
   "metadata": {},
   "source": [
    "## Min Samples Split\n",
    "\n",
    "(15 points)\n",
    "\n",
    "Consider the following min_samples_split values: [1, 5, 10, 20, 50]. For each value, construct a tree and prune it according to the min_samples_split value = don't split a node if the number of sample in it is less or equal to the min_samples_split value. Next, calculate the training and testing accuracy.<br>\n",
    "On a single plot, draw the training and testing accuracy as a function of the min_samples_split. Mark the best result on the graph with red circle. (make sure that the x-axis ticks represent the values of min_samples_split)"
   ]
  },
  {
   "cell_type": "code",
   "execution_count": 19,
   "metadata": {},
   "outputs": [
    {
     "data": {
      "image/png": "[encoded data removed]",
      "text/plain": [
       "<Figure size 720x576 with 1 Axes>"
      ]
     },
     "metadata": {
      "needs_background": "light"
     },
     "output_type": "display_data"
    }
   ],
   "source": [
    "#### Your code here ####\n",
    "min_samples_split_arr = [1, 5, 10, 20, 50]\n",
    "m_root_arr = []\n",
    "m_acc_test_arr = []\n",
    "m_acc_train_arr = []\n",
    "for sample in min_samples_split_arr:\n",
    "    m_root_arr.append(build_tree(X_train,calc_entropy , True, sample))\n",
    "    \n",
    "for root in m_root_arr:\n",
    "    m_acc_test_arr.append(calc_accuracy(root,X_test))\n",
    "    m_acc_train_arr.append(calc_accuracy(root,X_train))\n",
    "    \n",
    "max_index = np.argmin(m_acc_train_arr)\n",
    "\n",
    "plt.plot(min_samples_split_arr, m_acc_test_arr,'c', label = \"test\")\n",
    "plt.plot(min_samples_split_arr, m_acc_train_arr, 'y', label = \"train\")\n",
    "plt.scatter(min_samples_split_arr[max_index], m_acc_test_arr[max_index], s=100, facecolors='none', edgecolors='r',label = \"best result\")\n",
    "plt.legend(loc = 'upper left')\n",
    "plt.xlabel('min samples split')\n",
    "plt.ylabel('accuracy')\n",
    "plt.title('accuracy as function of min samples split')\n",
    "plt.show()\n"
   ]
  },
  {
   "cell_type": "markdown",
   "metadata": {},
   "source": [
    "Build the best 2 trees:\n",
    "1. tree_max_depth - the best tree according to max_depth pruning\n",
    "1. tree_min_samples_split - the best tree according to min_samples_split pruning"
   ]
  },
  {
   "cell_type": "code",
   "execution_count": 21,
   "metadata": {},
   "outputs": [
    {
     "name": "stdout",
     "output_type": "stream",
     "text": [
      "test accuracy for best max_depth:  89.561792220581\n",
      "test accuracy for best min_samples_split:  89.51255539143278\n"
     ]
    }
   ],
   "source": [
    "index1 = np.argmax(d_acc_test_arr)\n",
    "tree_max_depth = d_root_arr[index1] \n",
    "index2 = np.argmax(m_acc_test_arr)\n",
    "tree_min_samples_split  = m_root_arr[index2] \n",
    "\n",
    "print(\"test accuracy for best max_depth: \", d_acc_test_arr[index1])\n",
    "print(\"test accuracy for best min_samples_split: \", m_acc_test_arr[index2])"
   ]
  },
  {
   "cell_type": "markdown",
   "metadata": {},
   "source": [
    "## Number of Nodes\n",
    "\n",
    "(5 points)\n",
    "\n",
    "Complete the function counts_nodes and print the number of nodes in each tree and print the number of nodes of the two trees above"
   ]
  },
  {
   "cell_type": "code",
   "execution_count": 22,
   "metadata": {},
   "outputs": [],
   "source": [
    "def count_nodes(node):\n",
    "    \"\"\"\n",
    "    Count the number of node in a given tree\n",
    " \n",
    "    Input:\n",
    "    - node: a node in the decision tree.\n",
    " \n",
    "    Output: the number of node in the tree.\n",
    "    \"\"\"\n",
    "\n",
    "    ###########################################################################\n",
    "    # TODO: Implement the function.                                           #\n",
    "    ###########################################################################\n",
    "    if node.children == []:\n",
    "        return 1\n",
    "    counter = 1\n",
    "    for child in node.children:\n",
    "        counter +=  count_nodes(child)\n",
    "    \n",
    "    return counter\n",
    "\n",
    "    ###########################################################################\n",
    "    #                             END OF YOUR CODE                            #\n",
    "    ###########################################################################\n",
    "    "
   ]
  },
  {
   "cell_type": "markdown",
   "metadata": {},
   "source": [
    "## Print the tree\n",
    "\n",
    "Complete the function `print_tree`. Your tree should be visualized clearly. You can use the following example as a reference:\n",
    "```\n",
    "[ROOT, feature=X0],\n",
    "  [X0=a, feature=X2]\n",
    "    [X2=c, leaf]: [{1.0: 10}]\n",
    "    [X2=d, leaf]: [{0.0: 10}]\n",
    "  [X0=y, feature=X5], \n",
    "    [X5=a, leaf]: [{1.0: 5}]\n",
    "    [X5=s, leaf]: [{0.0: 10}]\n",
    "  [X0=e, leaf]: [{0.0: 25, 1.0: 50}]\n",
    "```\n",
    "In each brackets:\n",
    "* The first argument is the parent feature with the value that led to current node\n",
    "* The second argument is the selected feature of the current node\n",
    "* If the current node is a leaf, you need to print also the labels and their counts\n",
    "\n",
    "(5 points)"
   ]
  },
  {
   "cell_type": "code",
   "execution_count": 23,
   "metadata": {},
   "outputs": [],
   "source": [
    "# you can change the function signeture\n",
    "def print_tree(node, depth=0, parent_feature='ROOT', feature_val='ROOT'):\n",
    "    '''\n",
    "    prints the tree according to the example above\n",
    "\n",
    "    Input:\n",
    "    - node: a node in the decision tree\n",
    "\n",
    "    This function has no return value\n",
    "    '''\n",
    "    ###########################################################################\n",
    "    # TODO: Implement the function.                                           #\n",
    "    ###########################################################################\n",
    "    prev_feat = node.feature\n",
    "    space = 2*depth \n",
    "    if node.value == None:\n",
    "        print(\" \"*space,\"[\",parent_feature,\", feature=\",node.feature,\"]\\n\")\n",
    "    elif node.children==[]:\n",
    "        print(\" \"*space,\"[\",parent_feature,\"=\",node.value,\",leaf] [\", node.val_count,\"]\\n\")\n",
    "        return \n",
    "    else:\n",
    "        print(\" \"*space,\"[\",parent_feature,\"=\",node.value,\", feature=\",node.feature,\"]\\n\")\n",
    "    for child in node.children:\n",
    "        print_tree(child,depth+1,node.feature,child.value)\n",
    "    ###########################################################################\n",
    "    #                             END OF YOUR CODE                            #\n",
    "    ###########################################################################\n",
    "\n",
    "\n",
    "    \n",
    "    \n"
   ]
  },
  {
   "cell_type": "markdown",
   "metadata": {},
   "source": [
    "print the tree with the best test accuracy and with less than 50 nodes (from the two pruning methods)"
   ]
  },
  {
   "cell_type": "code",
   "execution_count": 24,
   "metadata": {},
   "outputs": [
    {
     "name": "stdout",
     "output_type": "stream",
     "text": [
      "10 88.52781880846874\n",
      " [ ROOT , feature= 4 ]\n",
      "\n",
      "   [ 4 = a ,leaf] [ {'e': 273, 'p': 31} ]\n",
      "\n",
      "   [ 4 = c ,leaf] [ {'e': 10, 'p': 137} ]\n",
      "\n",
      "   [ 4 = f ,leaf] [ {'e': 170, 'p': 1438} ]\n",
      "\n",
      "   [ 4 = l ,leaf] [ {'e': 272, 'p': 27} ]\n",
      "\n",
      "   [ 4 = m ,leaf] [ {'e': 2, 'p': 25} ]\n",
      "\n",
      "   [ 4 = n ,leaf] [ {'e': 2332, 'p': 344} ]\n",
      "\n",
      "   [ 4 = p ,leaf] [ {'e': 8, 'p': 175} ]\n",
      "\n",
      "   [ 4 = s ,leaf] [ {'e': 38, 'p': 380} ]\n",
      "\n",
      "   [ 4 = y ,leaf] [ {'e': 49, 'p': 382} ]\n",
      "\n"
     ]
    }
   ],
   "source": [
    "#### Your code here ####\n",
    "max_depth_arr = [1,2,3,4,5,6,7,8]\n",
    "min_samples_split_arr = [1, 5, 10, 20, 50]\n",
    "best_root_arr = []\n",
    "acc_test_arr = []\n",
    "for depth in max_depth_arr:\n",
    "    for sample in min_samples_split_arr:\n",
    "        best_root_arr.append(build_tree(X_train,calc_entropy , True , sample, depth))\n",
    "for root in best_root_arr:\n",
    "    acc_test_arr.append(calc_accuracy(root,X_test))\n",
    "max_arc = 0\n",
    "index = 0\n",
    "best_tree = None\n",
    "for node in best_root_arr:\n",
    "    if count_nodes(node) <= 50:\n",
    "        if max_arc <  acc_test_arr[index]:\n",
    "            max_arc = acc_test_arr[index]\n",
    "            best_tree = node\n",
    "    index += 1\n",
    "\n",
    "print(count_nodes(best_tree), max_arc)\n",
    "print_tree(best_tree)\n"
   ]
  },
  {
   "cell_type": "code",
   "execution_count": null,
   "metadata": {},
   "outputs": [],
   "source": [
    "\n"
   ]
  },
  {
   "cell_type": "code",
   "execution_count": null,
   "metadata": {},
   "outputs": [],
   "source": []
  },
  {
   "cell_type": "code",
   "execution_count": null,
   "metadata": {},
   "outputs": [],
   "source": []
  },
  {
   "cell_type": "code",
   "execution_count": null,
   "metadata": {},
   "outputs": [],
   "source": []
  },
  {
   "cell_type": "code",
   "execution_count": null,
   "metadata": {},
   "outputs": [],
   "source": []
  },
  {
   "cell_type": "code",
   "execution_count": null,
   "metadata": {},
   "outputs": [],
   "source": []
  }
 ],
 "metadata": {
  "celltoolbar": "Create Assignment",
  "kernelspec": {
   "display_name": "Python 3 (ipykernel)",
   "language": "python",
   "name": "python3"
  },
  "language_info": {
   "codemirror_mode": {
    "name": "ipython",
    "version": 3
   },
   "file_extension": ".py",
   "mimetype": "text/x-python",
   "name": "python",
   "nbconvert_exporter": "python",
   "pygments_lexer": "ipython3",
   "version": "3.10.2"
  }
 },
 "nbformat": 4,
 "nbformat_minor": 4
}
